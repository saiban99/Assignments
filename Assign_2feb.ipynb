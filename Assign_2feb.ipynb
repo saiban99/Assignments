{
 "cells": [
  {
   "cell_type": "code",
   "execution_count": 1,
   "id": "3f164d17-699d-4631-9d0c-f8c3c601ffd7",
   "metadata": {},
   "outputs": [
    {
     "name": "stdout",
     "output_type": "stream",
     "text": [
      "1\n",
      "2\n",
      "3\n",
      "4\n"
     ]
    }
   ],
   "source": [
    "# Q1\n",
    "# use a for loop when u know the loop should execute n times.\n",
    "l=[1,2,3,4]\n",
    "for i in l:\n",
    "    print(i)"
   ]
  },
  {
   "cell_type": "code",
   "execution_count": 8,
   "id": "74f1ee58-4644-4b8c-b294-ed3b9a423f14",
   "metadata": {},
   "outputs": [
    {
     "data": {
      "text/plain": [
       "55"
      ]
     },
     "execution_count": 8,
     "metadata": {},
     "output_type": "execute_result"
    }
   ],
   "source": [
    "# Q2\n",
    "l = [1,2,3,4,5,6,7,8,9,10]\n",
    "result = 0\n",
    "for i in l :\n",
    "    result = result+ i\n",
    "result\n"
   ]
  },
  {
   "cell_type": "code",
   "execution_count": 10,
   "id": "fd32885f-8e1f-46cc-9670-c7510c6210c5",
   "metadata": {},
   "outputs": [
    {
     "data": {
      "text/plain": [
       "3628800"
      ]
     },
     "execution_count": 10,
     "metadata": {},
     "output_type": "execute_result"
    }
   ],
   "source": [
    "l = [1,2,3,4,5,6,7,8,9,10]\n",
    "result = 1\n",
    "for i in l :\n",
    "    result = result* i\n",
    "result"
   ]
  },
  {
   "cell_type": "code",
   "execution_count": 17,
   "id": "8fc35647-c233-4075-9f77-661734506817",
   "metadata": {},
   "outputs": [
    {
     "name": "stdin",
     "output_type": "stream",
     "text": [
      "enter a number 10\n"
     ]
    },
    {
     "name": "stdout",
     "output_type": "stream",
     "text": [
      "55\n"
     ]
    }
   ],
   "source": [
    "num = int(input(\"enter a number\"))\n",
    "if num < 0:\n",
    "    print(\"enter a positive number\")\n",
    "else:    \n",
    "    sum = 0\n",
    "    while(num>0):\n",
    "        sum += num\n",
    "        num -= 1\n",
    "    print(sum)"
   ]
  },
  {
   "cell_type": "code",
   "execution_count": 21,
   "id": "82a6601b-f559-4c0f-9a7e-82aef5b62b66",
   "metadata": {},
   "outputs": [
    {
     "name": "stdin",
     "output_type": "stream",
     "text": [
      "enter a number 10\n"
     ]
    },
    {
     "name": "stdout",
     "output_type": "stream",
     "text": [
      "3628800\n"
     ]
    }
   ],
   "source": [
    "num = int(input(\"enter a number\"))\n",
    "if num < 0:\n",
    "    print(\"enter a positive number\")\n",
    "else:    \n",
    "    sum = 1\n",
    "    while(num>0):\n",
    "        sum =sum*num\n",
    "        num -= 1\n",
    "    print(sum)"
   ]
  },
  {
   "cell_type": "code",
   "execution_count": 47,
   "id": "fdd0ae24-51ca-470a-8e06-68f27dbcc02d",
   "metadata": {},
   "outputs": [
    {
     "name": "stdin",
     "output_type": "stream",
     "text": [
      "enter ELECTRICITY consumed a month 200\n"
     ]
    },
    {
     "name": "stdout",
     "output_type": "stream",
     "text": [
      "electricity bill is 1200\n"
     ]
    }
   ],
   "source": [
    "# Q3\n",
    "num = int(input(\"enter ELECTRICITY consumed a month\"))\n",
    "if num <= 100:\n",
    "    bill = 4.5\n",
    "    bill = bill *num\n",
    "    print(\"electricity bill is\",bill)\n",
    "else:\n",
    "    if( num > 100 & num <= 200) :\n",
    "        bill = 6\n",
    "        bill = bill *num\n",
    "    print(\"electricity bill is\",bill)\n",
    "else:\n",
    "    if( num > 200 & num <= 300) :\n",
    "        bill = 10\n",
    "        bill = bill *num\n",
    "         print(\"electricity bill is\",bill)  \n",
    "else:\n",
    "    if( num > 300 & num <= 400) :\n",
    "        bill = 20\n",
    "        bill = bill *num\n",
    "         print(\"electricity bill is\",bill)             \n",
    "\n",
    "    \n"
   ]
  },
  {
   "cell_type": "code",
   "execution_count": 51,
   "id": "21715452-adc5-46e5-9ae4-3b1bce1b481a",
   "metadata": {},
   "outputs": [
    {
     "data": {
      "text/plain": [
       "[1,\n",
       " 2,\n",
       " 3,\n",
       " 4,\n",
       " 5,\n",
       " 6,\n",
       " 7,\n",
       " 8,\n",
       " 9,\n",
       " 10,\n",
       " 11,\n",
       " 12,\n",
       " 13,\n",
       " 14,\n",
       " 15,\n",
       " 16,\n",
       " 17,\n",
       " 18,\n",
       " 19,\n",
       " 20,\n",
       " 21,\n",
       " 22,\n",
       " 23,\n",
       " 24,\n",
       " 25,\n",
       " 26,\n",
       " 27,\n",
       " 28,\n",
       " 29,\n",
       " 30,\n",
       " 31,\n",
       " 32,\n",
       " 33,\n",
       " 34,\n",
       " 35,\n",
       " 36,\n",
       " 37,\n",
       " 38,\n",
       " 39,\n",
       " 40,\n",
       " 41,\n",
       " 42,\n",
       " 43,\n",
       " 44,\n",
       " 45,\n",
       " 46,\n",
       " 47,\n",
       " 48,\n",
       " 49,\n",
       " 50,\n",
       " 51,\n",
       " 52,\n",
       " 53,\n",
       " 54,\n",
       " 55,\n",
       " 56,\n",
       " 57,\n",
       " 58,\n",
       " 59,\n",
       " 60,\n",
       " 61,\n",
       " 62,\n",
       " 63,\n",
       " 64,\n",
       " 65,\n",
       " 66,\n",
       " 67,\n",
       " 68,\n",
       " 69,\n",
       " 70,\n",
       " 71,\n",
       " 72,\n",
       " 73,\n",
       " 74,\n",
       " 75,\n",
       " 76,\n",
       " 77,\n",
       " 78,\n",
       " 79,\n",
       " 80,\n",
       " 81,\n",
       " 82,\n",
       " 83,\n",
       " 84,\n",
       " 85,\n",
       " 86,\n",
       " 87,\n",
       " 88,\n",
       " 89,\n",
       " 90,\n",
       " 91,\n",
       " 92,\n",
       " 93,\n",
       " 94,\n",
       " 95,\n",
       " 96,\n",
       " 97,\n",
       " 98,\n",
       " 99]"
      ]
     },
     "execution_count": 51,
     "metadata": {},
     "output_type": "execute_result"
    }
   ],
   "source": [
    "list(range(1,100))\n"
   ]
  },
  {
   "cell_type": "code",
   "execution_count": 55,
   "id": "6328d168-3422-4d69-a2af-655368ff273b",
   "metadata": {},
   "outputs": [
    {
     "name": "stdout",
     "output_type": "stream",
     "text": [
      "[1]\n",
      "[8]\n",
      "[27]\n",
      "[64]\n",
      "[125]\n",
      "[216]\n",
      "[343]\n",
      "[512]\n",
      "[729]\n",
      "[1000]\n",
      "[1331]\n",
      "[1728]\n",
      "[2197]\n",
      "[2744]\n",
      "[3375]\n",
      "[4096]\n",
      "[4913]\n",
      "[5832]\n",
      "[6859]\n",
      "[8000]\n",
      "[9261]\n",
      "[10648]\n",
      "[12167]\n",
      "[13824]\n",
      "[15625]\n",
      "[17576]\n",
      "[19683]\n",
      "[21952]\n",
      "[24389]\n",
      "[27000]\n",
      "[29791]\n",
      "[32768]\n",
      "[35937]\n",
      "[39304]\n",
      "[42875]\n",
      "[46656]\n",
      "[50653]\n",
      "[54872]\n",
      "[59319]\n",
      "[64000]\n",
      "[68921]\n",
      "[74088]\n",
      "[79507]\n",
      "[85184]\n",
      "[91125]\n",
      "[97336]\n",
      "[103823]\n",
      "[110592]\n",
      "[117649]\n",
      "[125000]\n",
      "[132651]\n",
      "[140608]\n",
      "[148877]\n",
      "[157464]\n",
      "[166375]\n",
      "[175616]\n",
      "[185193]\n",
      "[195112]\n",
      "[205379]\n",
      "[216000]\n",
      "[226981]\n",
      "[238328]\n",
      "[250047]\n",
      "[262144]\n",
      "[274625]\n",
      "[287496]\n",
      "[300763]\n",
      "[314432]\n",
      "[328509]\n",
      "[343000]\n",
      "[357911]\n",
      "[373248]\n",
      "[389017]\n",
      "[405224]\n",
      "[421875]\n",
      "[438976]\n",
      "[456533]\n",
      "[474552]\n",
      "[493039]\n",
      "[512000]\n",
      "[531441]\n",
      "[551368]\n",
      "[571787]\n",
      "[592704]\n",
      "[614125]\n",
      "[636056]\n",
      "[658503]\n",
      "[681472]\n",
      "[704969]\n",
      "[729000]\n",
      "[753571]\n",
      "[778688]\n",
      "[804357]\n",
      "[830584]\n",
      "[857375]\n",
      "[884736]\n",
      "[912673]\n",
      "[941192]\n",
      "[970299]\n"
     ]
    }
   ],
   "source": [
    "for i in list(range(1,100)):\n",
    "    res = []\n",
    "    res.append(i*i*i)\n",
    "    print(res)"
   ]
  },
  {
   "cell_type": "code",
   "execution_count": 57,
   "id": "ab163d9f-22d1-471b-af21-f2656195a251",
   "metadata": {},
   "outputs": [
    {
     "name": "stdout",
     "output_type": "stream",
     "text": [
      "Number of vowels in the given string is:  11\n"
     ]
    }
   ],
   "source": [
    "# Q5\n",
    "string = \"I want to become a data scientist\"\n",
    "count = 0\n",
    "i = 0\n",
    "for i in range(len(string)):\n",
    "    if (\n",
    "        (string[i] == \"a\")\n",
    "        or (string[i] == \"e\")\n",
    "        or (string[i] == \"i\")\n",
    "        or (string[i] == \"o\")\n",
    "        or (string[i] == \"u\")\n",
    "    ):\n",
    "        count += 1\n",
    "\n",
    "print(\"Number of vowels in the given string is: \", count)"
   ]
  },
  {
   "cell_type": "code",
   "execution_count": null,
   "id": "5cec8ebd-e0bf-4e45-99f8-99435e0e2d0f",
   "metadata": {},
   "outputs": [],
   "source": []
  }
 ],
 "metadata": {
  "kernelspec": {
   "display_name": "Python 3 (ipykernel)",
   "language": "python",
   "name": "python3"
  },
  "language_info": {
   "codemirror_mode": {
    "name": "ipython",
    "version": 3
   },
   "file_extension": ".py",
   "mimetype": "text/x-python",
   "name": "python",
   "nbconvert_exporter": "python",
   "pygments_lexer": "ipython3",
   "version": "3.10.8"
  }
 },
 "nbformat": 4,
 "nbformat_minor": 5
}
