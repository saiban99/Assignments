{
 "cells": [
  {
   "cell_type": "code",
   "execution_count": 1,
   "id": "3f164d17-699d-4631-9d0c-f8c3c601ffd7",
   "metadata": {},
   "outputs": [
    {
     "name": "stdout",
     "output_type": "stream",
     "text": [
      "1\n",
      "2\n",
      "3\n",
      "4\n"
     ]
    }
   ],
   "source": [
    "# Q1\n",
    "# use a for loop when u know the loop should execute n times.\n",
    "l=[1,2,3,4]\n",
    "for i in l:\n",
    "    print(i)"
   ]
  },
  {
   "cell_type": "code",
   "execution_count": 8,
   "id": "74f1ee58-4644-4b8c-b294-ed3b9a423f14",
   "metadata": {},
   "outputs": [
    {
     "data": {
      "text/plain": [
       "55"
      ]
     },
     "execution_count": 8,
     "metadata": {},
     "output_type": "execute_result"
    }
   ],
   "source": [
    "# Q2\n",
    "l = [1,2,3,4,5,6,7,8,9,10]\n",
    "result = 0\n",
    "for i in l :\n",
    "    result = result+ i\n",
    "result\n"
   ]
  },
  {
   "cell_type": "code",
   "execution_count": 10,
   "id": "fd32885f-8e1f-46cc-9670-c7510c6210c5",
   "metadata": {},
   "outputs": [
    {
     "data": {
      "text/plain": [
       "3628800"
      ]
     },
     "execution_count": 10,
     "metadata": {},
     "output_type": "execute_result"
    }
   ],
   "source": [
    "l = [1,2,3,4,5,6,7,8,9,10]\n",
    "result = 1\n",
    "for i in l :\n",
    "    result = result* i\n",
    "result"
   ]
  },
  {
   "cell_type": "code",
   "execution_count": 17,
   "id": "8fc35647-c233-4075-9f77-661734506817",
   "metadata": {},
   "outputs": [
    {
     "name": "stdin",
     "output_type": "stream",
     "text": [
      "enter a number 10\n"
     ]
    },
    {
     "name": "stdout",
     "output_type": "stream",
     "text": [
      "55\n"
     ]
    }
   ],
   "source": [
    "num = int(input(\"enter a number\"))\n",
    "if num < 0:\n",
    "    print(\"enter a positive number\")\n",
    "else:    \n",
    "    sum = 0\n",
    "    while(num>0):\n",
    "        sum += num\n",
    "        num -= 1\n",
    "    print(sum)"
   ]
  },
  {
   "cell_type": "code",
   "execution_count": 19,
   "id": "82a6601b-f559-4c0f-9a7e-82aef5b62b66",
   "metadata": {},
   "outputs": [
    {
     "name": "stdin",
     "output_type": "stream",
     "text": [
      "enter a number 10\n"
     ]
    },
    {
     "name": "stdout",
     "output_type": "stream",
     "text": [
      "3628800\n"
     ]
    }
   ],
   "source": [
    "num = int(input(\"enter a number\"))\n",
    "if num < 0:\n",
    "    print(\"enter a positive number\")\n",
    "else:    \n",
    "    sum = 1\n",
    "    while(num>0):\n",
    "        sum =sum*num\n",
    "        num -= 1\n",
    "    print(sum)"
   ]
  },
  {
   "cell_type": "code",
   "execution_count": null,
   "id": "fdd0ae24-51ca-470a-8e06-68f27dbcc02d",
   "metadata": {},
   "outputs": [],
   "source": [
    "# Q3\n",
    "num = int(input(\"enter ELECTRICITY consumed a month\"))\n",
    "if num <= 100:\n",
    "    bill = 4.5\n",
    "    bill = bill *num\n",
    "    print(\"electricity bill is\",bill)\n",
    "else:\n",
    "if num > 100&& num <= 200 :\n",
    "    bill = 6\n",
    "    bill = bill *num\n",
    "    print(\"electricity bill is\",bill)\n",
    "    \n"
   ]
  },
  {
   "cell_type": "code",
   "execution_count": null,
   "id": "21715452-adc5-46e5-9ae4-3b1bce1b481a",
   "metadata": {},
   "outputs": [],
   "source": []
  }
 ],
 "metadata": {
  "kernelspec": {
   "display_name": "Python 3 (ipykernel)",
   "language": "python",
   "name": "python3"
  },
  "language_info": {
   "codemirror_mode": {
    "name": "ipython",
    "version": 3
   },
   "file_extension": ".py",
   "mimetype": "text/x-python",
   "name": "python",
   "nbconvert_exporter": "python",
   "pygments_lexer": "ipython3",
   "version": "3.10.8"
  }
 },
 "nbformat": 4,
 "nbformat_minor": 5
}
