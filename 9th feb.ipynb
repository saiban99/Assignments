{
 "cells": [
  {
   "cell_type": "code",
   "execution_count": 1,
   "id": "a32b158e-cbee-4af6-97d1-aa62e0d1530d",
   "metadata": {},
   "outputs": [],
   "source": [
    "#q1\n",
    "\n",
    "class vehicle :\n",
    "    def __init__(self, name_of_vehicle , max_speed , average_of_vehicle ):\n",
    "        self.name_of_vehicle = name_of_vehicle\n",
    "        self.max_speed = max_speed \n",
    "        self.average_of_vehicle = average_of_vehicle \n",
    "        \n",
    "s1 = vehicle(\"skoda\" , 220 , 10)     "
   ]
  },
  {
   "cell_type": "code",
   "execution_count": 2,
   "id": "bc50f5ca-52cd-4d55-91b7-1d1a12e00236",
   "metadata": {},
   "outputs": [
    {
     "data": {
      "text/plain": [
       "220"
      ]
     },
     "execution_count": 2,
     "metadata": {},
     "output_type": "execute_result"
    }
   ],
   "source": [
    "s1.max_speed"
   ]
  },
  {
   "cell_type": "code",
   "execution_count": 4,
   "id": "602804e4-2a76-453a-98e1-90a396286d8b",
   "metadata": {},
   "outputs": [],
   "source": [
    "class vehicle :\n",
    "    def __init__(self, name_of_vehicle , max_speed , average_of_vehicle ):\n",
    "        self.name_of_vehicle = name_of_vehicle\n",
    "        self.max_speed = max_speed \n",
    "        self.average_of_vehicle = average_of_vehicle \n",
    "        \n",
    "class car(vehicle):\n",
    "    pass\n",
    "\n",
    "s1 = car(\"skoda\", 220 ,10)\n",
    "\n",
    "        "
   ]
  },
  {
   "cell_type": "code",
   "execution_count": 6,
   "id": "8dc567cd-a37b-4b18-9f47-ef5641e1ad7c",
   "metadata": {},
   "outputs": [
    {
     "data": {
      "text/plain": [
       "'skoda'"
      ]
     },
     "execution_count": 6,
     "metadata": {},
     "output_type": "execute_result"
    }
   ],
   "source": [
    "s1.name_of_vehicle"
   ]
  },
  {
   "cell_type": "code",
   "execution_count": 13,
   "id": "0ab705b7-a35a-4eeb-804c-7221323ccd5f",
   "metadata": {},
   "outputs": [
    {
     "name": "stdout",
     "output_type": "stream",
     "text": [
      "The seating capacity of a skoda is 50 passengers\n"
     ]
    }
   ],
   "source": [
    "#q2\n",
    "\n",
    "class vehicle :\n",
    "    def __init__(self, name_of_vehicle , max_speed , average_of_vehicle ):\n",
    "        self.name_of_vehicle = name_of_vehicle\n",
    "        self.max_speed = max_speed \n",
    "        self.average_of_vehicle = average_of_vehicle \n",
    "        \n",
    "    def seating_capacity(self, capacity):\n",
    "        return f\"The seating capacity of a {self.name_of_vehicle} is {capacity} passengers\" \n",
    "    \n",
    "class car(vehicle):\n",
    "    def seating_capacity(self, capacity=50):\n",
    "        return super().seating_capacity(capacity=50)\n",
    "    \n",
    "s1 = car(\"skoda\", 220 ,10)\n",
    "print(s1.seating_capacity())"
   ]
  },
  {
   "cell_type": "code",
   "execution_count": null,
   "id": "1f33a927-93cb-4bba-a678-809aa74f881e",
   "metadata": {},
   "outputs": [],
   "source": [
    "#q3\n",
    "When a class is derived from more than one base class it is called multiple Inheritance. The derived class inherits all the features of the base case.\n"
   ]
  },
  {
   "cell_type": "code",
   "execution_count": 14,
   "id": "4c751f25-23d7-4ded-aefb-044adbc16c73",
   "metadata": {},
   "outputs": [
    {
     "name": "stdout",
     "output_type": "stream",
     "text": [
      "In Class2\n"
     ]
    }
   ],
   "source": [
    "\n",
    "\n",
    "class Class1:\n",
    "\tdef m(self):\n",
    "\t\tprint(\"In Class1\")\n",
    "\t\n",
    "class Class2(Class1):\n",
    "\tdef m(self):\n",
    "\t\tprint(\"In Class2\")\n",
    "\n",
    "class Class3(Class1):\n",
    "\tdef m(self):\n",
    "\t\tprint(\"In Class3\")\n",
    "\t\t\n",
    "class Class4(Class2, Class3):\n",
    "\tpass\n",
    "\t\n",
    "obj = Class4()\n",
    "obj.m()\n"
   ]
  },
  {
   "cell_type": "code",
   "execution_count": null,
   "id": "b7f8782f-c233-435a-8856-b5f611d9b7b2",
   "metadata": {},
   "outputs": [],
   "source": [
    "#q4\n",
    "We use getters & setters to add validation logic around getting and setting a value.\n",
    "To avoid direct access of a class field i.e. private variables cannot be accessed directly or modified by external user.\n"
   ]
  },
  {
   "cell_type": "code",
   "execution_count": 16,
   "id": "027a7f66-16fc-4af1-a777-d3ef2d9ecbec",
   "metadata": {},
   "outputs": [
    {
     "name": "stdout",
     "output_type": "stream",
     "text": [
      "21\n"
     ]
    }
   ],
   "source": [
    "class saiban:\n",
    "    def __init__(self, age=0):\n",
    "         self._age = age\n",
    "    \n",
    "    def set_age(self, x):\n",
    "        self._age = x\n",
    "        \n",
    "    def get_age(self):\n",
    "        return self._age\n",
    "  \n",
    "raj = saiban()\n",
    "\n",
    "raj.set_age(21)\n",
    "  \n",
    "print(raj.get_age())"
   ]
  },
  {
   "cell_type": "code",
   "execution_count": null,
   "id": "ae49af4b-a80e-494a-81bc-b5fe6360ae37",
   "metadata": {},
   "outputs": [],
   "source": [
    "#q5\n",
    "Method overriding is an ability of any object-oriented programming language that allows a subclass or child class to provide a specific implementation of a method that is already provided by one of its super-classes or parent classes. When a method in a subclass has the same name, same parameters or signature and same return type(or sub-type) as a method in its super-class, then the method in the subclass is said to override the method in the super-class."
   ]
  },
  {
   "cell_type": "code",
   "execution_count": 19,
   "id": "fb4fcc27-7d1c-4463-80b7-b0ce1f96ae5a",
   "metadata": {},
   "outputs": [
    {
     "name": "stdout",
     "output_type": "stream",
     "text": [
      "Inside Parent\n",
      "Inside Child\n"
     ]
    }
   ],
   "source": [
    "class Parent():\n",
    "      \n",
    "    def __init__(self):\n",
    "        self.value = \"Inside Parent\"\n",
    "           \n",
    "    def show(self):\n",
    "        print(self.value)\n",
    "          \n",
    "class Child(Parent):\n",
    "   \n",
    "    def __init__(self):\n",
    "        self.value = \"Inside Child\"\n",
    "          \n",
    "    def show(self):\n",
    "        print(self.value)\n",
    "          \n",
    "        \n",
    "obj1 = Parent()\n",
    "obj2 = Child()\n",
    "  \n",
    "obj1.show()\n",
    "obj2.show()"
   ]
  },
  {
   "cell_type": "code",
   "execution_count": null,
   "id": "18234c73-5b36-4bc4-8431-bd24c82b0bb1",
   "metadata": {},
   "outputs": [],
   "source": []
  }
 ],
 "metadata": {
  "kernelspec": {
   "display_name": "Python 3 (ipykernel)",
   "language": "python",
   "name": "python3"
  },
  "language_info": {
   "codemirror_mode": {
    "name": "ipython",
    "version": 3
   },
   "file_extension": ".py",
   "mimetype": "text/x-python",
   "name": "python",
   "nbconvert_exporter": "python",
   "pygments_lexer": "ipython3",
   "version": "3.10.8"
  }
 },
 "nbformat": 4,
 "nbformat_minor": 5
}
