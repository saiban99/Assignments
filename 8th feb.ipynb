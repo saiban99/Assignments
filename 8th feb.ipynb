{
 "cells": [
  {
   "cell_type": "code",
   "execution_count": null,
   "id": "d6aca63a-240c-4f87-ae38-12d3ab423166",
   "metadata": {},
   "outputs": [],
   "source": [
    "#q1\n",
    "\n",
    "Abstraction in python is defined as a process of handling complexity by hiding unnecessary information from the user. This is one of the core concepts of object-oriented programming (OOP) languages. \n"
   ]
  },
  {
   "cell_type": "code",
   "execution_count": 1,
   "id": "d61de52a-1098-4bc0-995e-a0cc01cd1d30",
   "metadata": {},
   "outputs": [],
   "source": [
    "from abc import ABC, abstractmethod   \n",
    "class Car(ABC):   \n",
    "    def mileage(self):   \n",
    "        pass  \n",
    "  \n",
    "class Tesla(Car):   \n",
    "    def mileage(self):   \n",
    "        print(\"The mileage is 30kmph\")   \n",
    "class Suzuki(Car):   \n",
    "    def mileage(self):   \n",
    "        print(\"The mileage is 25kmph \")   \n",
    "class Duster(Car):   \n",
    "     def mileage(self):   \n",
    "          print(\"The mileage is 24kmph \")   \n",
    "  \n",
    "class Renault(Car):   \n",
    "    def mileage(self):   \n",
    "            print(\"The mileage is 27kmph \") "
   ]
  },
  {
   "cell_type": "code",
   "execution_count": 2,
   "id": "e157362f-e3e8-4575-b173-670b88556929",
   "metadata": {},
   "outputs": [
    {
     "name": "stdout",
     "output_type": "stream",
     "text": [
      "The mileage is 24kmph \n"
     ]
    }
   ],
   "source": [
    "d = Duster()   \n",
    "d.mileage()  "
   ]
  },
  {
   "cell_type": "code",
   "execution_count": null,
   "id": "63536c3a-d400-4fcb-b0a2-1aa156ce38eb",
   "metadata": {},
   "outputs": [],
   "source": [
    "#q2\n",
    "\n",
    "The most significant difference between the two is that data abstraction is a method which helps to hide the unwanted data from the user, while data encapsulation is a method which helps to hide data using a single entity."
   ]
  },
  {
   "cell_type": "code",
   "execution_count": null,
   "id": "3634ad8a-2526-4303-9ae5-20a69611fe8d",
   "metadata": {},
   "outputs": [],
   "source": [
    "#q3\n",
    "\n",
    "The 'abc' module in the Python library provides the infrastructure for defining custom abstract base classes. Abstract class cannot be instantiated in python. An Abstract method can be call by its subclasses."
   ]
  },
  {
   "cell_type": "code",
   "execution_count": null,
   "id": "bcdc4988-cb0e-4243-ade5-9f01f4c7b7f6",
   "metadata": {},
   "outputs": [],
   "source": [
    "#q4\n",
    "\n",
    "Data abstraction is a method where essential elements are displayed to the user and trivial elements are kept hidden. In Java, abstraction is achieved by using the abstract keyword for classes and interfaces. In abstract classes, we can have abstract methods as well as concrete methods."
   ]
  },
  {
   "cell_type": "code",
   "execution_count": null,
   "id": "1fcb08dd-1845-4c69-a50c-6114b4436ae9",
   "metadata": {},
   "outputs": [],
   "source": [
    "#q5\n",
    "\n",
    "Abstract classes cannot be instantiated, but they can be subclassed. When an abstract class is subclassed, the subclass usually provides implementations for all of the abstract methods in its parent class. However, if it does not, then the subclass must also be declared abstract ."
   ]
  }
 ],
 "metadata": {
  "kernelspec": {
   "display_name": "Python 3 (ipykernel)",
   "language": "python",
   "name": "python3"
  },
  "language_info": {
   "codemirror_mode": {
    "name": "ipython",
    "version": 3
   },
   "file_extension": ".py",
   "mimetype": "text/x-python",
   "name": "python",
   "nbconvert_exporter": "python",
   "pygments_lexer": "ipython3",
   "version": "3.10.8"
  }
 },
 "nbformat": 4,
 "nbformat_minor": 5
}
