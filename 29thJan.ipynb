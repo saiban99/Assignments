{
 "cells": [
  {
   "cell_type": "code",
   "execution_count": null,
   "id": "85bccb1a-4994-48b9-8f7a-19912616b32c",
   "metadata": {},
   "outputs": [],
   "source": [
    "# Q1\n",
    "Guido van Rossum "
   ]
  },
  {
   "cell_type": "code",
   "execution_count": null,
   "id": "3f3065c3-4949-44bd-b15d-c389347f1988",
   "metadata": {},
   "outputs": [],
   "source": [
    "# q2\n",
    "Object-oriented programming and structured programming are fully supported"
   ]
  },
  {
   "cell_type": "code",
   "execution_count": null,
   "id": "99cc5945-f73e-4994-b49f-41e1afd4d730",
   "metadata": {},
   "outputs": [],
   "source": [
    "# q3\n",
    "Yes, Python is a case-sensitive language"
   ]
  },
  {
   "cell_type": "code",
   "execution_count": null,
   "id": "ff065179-47b2-45a0-aa4d-9373cb7bdd74",
   "metadata": {},
   "outputs": [],
   "source": [
    "#q4\n",
    ".py"
   ]
  },
  {
   "cell_type": "code",
   "execution_count": null,
   "id": "2807e936-1e7a-4dc7-a11b-31b669515364",
   "metadata": {},
   "outputs": [],
   "source": [
    "# q5\n",
    "Python is an interpreted language"
   ]
  },
  {
   "cell_type": "code",
   "execution_count": null,
   "id": "2ec3cb8d-da71-4d47-98f8-74ed75d48f46",
   "metadata": {},
   "outputs": [],
   "source": [
    "# q6\n",
    "a module, a function body, and a class definition."
   ]
  },
  {
   "cell_type": "code",
   "execution_count": null,
   "id": "7dfddce6-0bea-4368-ad38-ab7864c7654e",
   "metadata": {},
   "outputs": [],
   "source": [
    "# q7\n",
    "We can use the # character to write the comment in python."
   ]
  },
  {
   "cell_type": "code",
   "execution_count": null,
   "id": "70430375-6c5e-40c7-bef0-9ca7c5af6943",
   "metadata": {},
   "outputs": [],
   "source": [
    "# q8\n",
    "Using python_version() function.\n",
    "Using Python -V command."
   ]
  },
  {
   "cell_type": "code",
   "execution_count": null,
   "id": "e2c76c73-9749-4aa1-873a-412bc5da272a",
   "metadata": {},
   "outputs": [],
   "source": [
    "# q9\n",
    "lambda"
   ]
  },
  {
   "cell_type": "code",
   "execution_count": null,
   "id": "b32f4e3b-c8f4-4912-8ebf-7196e76e0768",
   "metadata": {},
   "outputs": [],
   "source": [
    "#10\n",
    "preferred installer program"
   ]
  },
  {
   "cell_type": "code",
   "execution_count": null,
   "id": "36683941-36cb-484e-b35b-7c40f7748d1b",
   "metadata": {},
   "outputs": [],
   "source": [
    "#11\n",
    "print( ) function.\n",
    "type( ) function.\n",
    "input( ) function.\n",
    "abs( ) function.\n",
    "pow( ) function.\n",
    "dir( ) function.\n",
    "sorted( ) function.\n",
    "max( ) function."
   ]
  },
  {
   "cell_type": "code",
   "execution_count": null,
   "id": "7642dfb5-364b-4f7d-8a23-2cf5f960a148",
   "metadata": {},
   "outputs": [],
   "source": [
    "# q12\n",
    "79 characters"
   ]
  },
  {
   "cell_type": "code",
   "execution_count": null,
   "id": "f0f8f01c-10c9-4202-839d-586c3bc35225",
   "metadata": {},
   "outputs": [],
   "source": [
    "# q13\n",
    "Simple to Use and Understand. For newcomers, Python is simple to understand and use. ...\n",
    "Free and Open-Source. Video Player is loading. ...\n",
    "Productivity has Increased. \n",
    "Interpreted Language. \n",
    "Extensive library. \n",
    "Dynamically Typed. \n",
    " "
   ]
  },
  {
   "cell_type": "code",
   "execution_count": null,
   "id": "0a6c7ccd-84da-4c98-a2ce-a1d22dc6d93b",
   "metadata": {},
   "outputs": [],
   "source": [
    "#Q14\n",
    "Memory management in Python involves a private heap containing all Python objects and data structures. The management of this private heap is ensured internally by the Python memory manager."
   ]
  },
  {
   "cell_type": "code",
   "execution_count": null,
   "id": "ad96392d-b603-4938-a108-61c28f5b6efd",
   "metadata": {},
   "outputs": [],
   "source": [
    "# q15\n",
    "Right-clicking This PC and going to Properties.\n",
    "Clicking on the Advanced system settings in the menu on the left.\n",
    "Clicking on the Environment Variables button o​n the bottom right.\n",
    "In the System variables section, selecting the Path variable and clicking on Edit."
   ]
  },
  {
   "cell_type": "code",
   "execution_count": null,
   "id": "b20f8dc8-e245-44a0-9246-42d2e601efa2",
   "metadata": {},
   "outputs": [],
   "source": [
    "# q16\n",
    "ndentation refers to the spaces at the beginning of a code line. Where in other programming languages the indentation in code is for readability only, the indentation in Python is very important. Python uses indentation to indicate a block of code."
   ]
  }
 ],
 "metadata": {
  "kernelspec": {
   "display_name": "Python 3 (ipykernel)",
   "language": "python",
   "name": "python3"
  },
  "language_info": {
   "codemirror_mode": {
    "name": "ipython",
    "version": 3
   },
   "file_extension": ".py",
   "mimetype": "text/x-python",
   "name": "python",
   "nbconvert_exporter": "python",
   "pygments_lexer": "ipython3",
   "version": "3.10.8"
  }
 },
 "nbformat": 4,
 "nbformat_minor": 5
}
