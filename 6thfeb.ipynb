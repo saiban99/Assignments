{
 "cells": [
  {
   "cell_type": "code",
   "execution_count": 2,
   "id": "e20bda9b-68a3-4b34-88ce-677aaf5e26fa",
   "metadata": {},
   "outputs": [
    {
     "name": "stdout",
     "output_type": "stream",
     "text": [
      "flatter list is  [1, 2, 3, 4, 44, 55, 66, True, False, 34, 56, 78, 89, 34, 1, 2, 3, 1, 34, 'key2', 55, 67, 78, 89, 4, 45, 22, 61, 34, 56, 'data science', 'machine learning']\n"
     ]
    },
    {
     "data": {
      "text/plain": [
       "('product of all number in list is ', 4134711838987085478833841242112000)"
      ]
     },
     "execution_count": 2,
     "metadata": {},
     "output_type": "execute_result"
    }
   ],
   "source": [
    "# q1\n",
    "list1 =[1,2,3,4,[44,55,66,True],False,(34,56,78,89,34),{1,2,3,3,2,1},{1:34,\"key2\":[55,67,78,89],4:(45,22,61,34)},[56,'data science'],'machine learning']\n",
    "def singlelist(list1):\n",
    "    a = []\n",
    "    for i in list1:\n",
    "        if type(i) == list or type(i)== tuple or type(i) == set :\n",
    "            for j in i:\n",
    "                a.append(j)\n",
    "        elif type(i) == dict:\n",
    "            for j in i:\n",
    "                a.append(j)\n",
    "                if type(i[j]) == list or type(i[j])== tuple or type(i[j]) == set :\n",
    "                    for k in i[j]:\n",
    "                        a.append(k)\n",
    "                else:\n",
    "                    a.append(i[j])\n",
    "        else:\n",
    "            a.append(i)\n",
    "    c = 1\n",
    "    for i in  a :\n",
    "        if type(i) == int or type(i) == float:\n",
    "            c = c*i\n",
    "    print(\"flatter list is \",a)\n",
    "    return \"product of all number in list is \",c\n",
    "singlelist(list1)\n"
   ]
  },
  {
   "cell_type": "code",
   "execution_count": 1,
   "id": "7ce4f958-b87a-427c-a9bc-997b067bac8a",
   "metadata": {},
   "outputs": [
    {
     "data": {
      "text/plain": [
       "'r$dzmg$gl$yvxlnv$z$wzgz$hxrvmgrhg.'"
      ]
     },
     "execution_count": 1,
     "metadata": {},
     "output_type": "execute_result"
    }
   ],
   "source": [
    "# q2\n",
    "def encrypt(x):\n",
    "    encrypted_msg = \"\"  \n",
    "    alphabet = ['a','b','c','d','e','f','g','h','i','j','k','l','m','n','o','p','q','r','s','t','u','v','w','x','y','z']\n",
    "    reverse_alphabet = alphabet[::-1] # Reverse the alphabet using slicing\n",
    "    for i in x:\n",
    "        if i == ' ':\n",
    "            encrypted_msg += '$'\n",
    "        elif i == \".\" or i == \"!\" or i == \",\" or i == \"?\":\n",
    "            encrypted_msg += i\n",
    "        else:\n",
    "            n = alphabet.index(i.lower())\n",
    "            encrypted_msg += reverse_alphabet[n]\n",
    "    return encrypted_msg\n",
    "            \n",
    "\n",
    "input_sentence = \"I want to become a Data Scientist.\"\n",
    "encrypt(input_sentence)"
   ]
  }
 ],
 "metadata": {
  "kernelspec": {
   "display_name": "Python 3 (ipykernel)",
   "language": "python",
   "name": "python3"
  },
  "language_info": {
   "codemirror_mode": {
    "name": "ipython",
    "version": 3
   },
   "file_extension": ".py",
   "mimetype": "text/x-python",
   "name": "python",
   "nbconvert_exporter": "python",
   "pygments_lexer": "ipython3",
   "version": "3.10.8"
  }
 },
 "nbformat": 4,
 "nbformat_minor": 5
}
