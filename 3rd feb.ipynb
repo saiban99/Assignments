{
 "cells": [
  {
   "cell_type": "code",
   "execution_count": 13,
   "id": "54b28460-261b-447a-98f0-bae6a10c2688",
   "metadata": {},
   "outputs": [],
   "source": [
    "# Q1\n",
    "l = list(range(1,26))\n",
    "def test(l):\n",
    "    l1=[]\n",
    "    for i in l:\n",
    "        if i % 2 == 0:\n",
    "            pass\n",
    "        else:\n",
    "            l1.append(i)\n",
    "    return l1"
   ]
  },
  {
   "cell_type": "code",
   "execution_count": 14,
   "id": "94d2cd03-0528-4996-b89d-b2fad166c8ac",
   "metadata": {},
   "outputs": [
    {
     "data": {
      "text/plain": [
       "[1, 3, 5, 7, 9, 11, 13, 15, 17, 19, 21, 23, 25]"
      ]
     },
     "execution_count": 14,
     "metadata": {},
     "output_type": "execute_result"
    }
   ],
   "source": [
    "test(l)"
   ]
  },
  {
   "cell_type": "code",
   "execution_count": 23,
   "id": "9c4fc0fb-fd79-46bf-9908-de6c4f9f6273",
   "metadata": {},
   "outputs": [],
   "source": [
    "# Q2\n",
    "\n",
    "\n",
    "\n",
    "#/ So basically *args can be used to pass n number of arguments in a\n",
    "# function which can be in the form of string , integer or anything \n",
    "# and it returns the value in tuple\n",
    "\n",
    "# **Kwargs is also same as *args the only difference between both of them\n",
    "# is that *args return value in the form of tuple and **kwargs return value\n",
    "# in dictionary\n",
    "args = [\"saiban\",2,3,4,5,6]\n",
    "def test1(*args):\n",
    "    return args\n",
    "\n"
   ]
  },
  {
   "cell_type": "code",
   "execution_count": 16,
   "id": "28d93c55-e9d6-4abd-a8c4-66d9e32ae9ef",
   "metadata": {},
   "outputs": [
    {
     "data": {
      "text/plain": [
       "(['saiban', 2, 3, 4, 5, 6],)"
      ]
     },
     "execution_count": 16,
     "metadata": {},
     "output_type": "execute_result"
    }
   ],
   "source": [
    "test1(args)"
   ]
  },
  {
   "cell_type": "code",
   "execution_count": 39,
   "id": "2ef161bc-7bce-4f7f-b459-b305358fa6b7",
   "metadata": {},
   "outputs": [
    {
     "name": "stdout",
     "output_type": "stream",
     "text": [
      "arg1: sam\n",
      "arg2: fox\n",
      "arg3: max\n"
     ]
    }
   ],
   "source": [
    "def myFun(arg1, arg2, arg3):\n",
    "\tprint(\"arg1:\", arg1)\n",
    "\tprint(\"arg2:\", arg2)\n",
    "\tprint(\"arg3:\", arg3)\n",
    "\n",
    "kwargs = {\"arg1\": \"sam\", \"arg2\": \"fox\", \"arg3\": \"max\"}\n",
    "myFun(**kwargs)\n"
   ]
  },
  {
   "cell_type": "code",
   "execution_count": 25,
   "id": "6dd181f7-19f1-4a22-bd6c-24dbc644969b",
   "metadata": {},
   "outputs": [],
   "source": [
    "# Q3\n",
    "\n",
    "\n",
    "\n",
    "# Iterator in Python is an object that is used to iterate over iterable objects like lists, tuples, dicts, and sets. The iterator object is initialized using the iter() method. \n",
    "# It uses the next() method for iteration.\n",
    "\n",
    "\n",
    "# In genrator function yield keyword is use to initialise the iterator object and the method used for iteration.\n",
    "\n",
    "l =[2,4,6,8,10,12,14,16,18,20]\n",
    "l1= l[:5]\n",
    "  \n",
    "    \n",
    "    \n",
    "\n",
    "\n"
   ]
  },
  {
   "cell_type": "code",
   "execution_count": 20,
   "id": "1aa8c76c-4bd3-4a88-9b30-3316f5c558e5",
   "metadata": {},
   "outputs": [
    {
     "data": {
      "text/plain": [
       "[2, 4, 6, 8, 10]"
      ]
     },
     "execution_count": 20,
     "metadata": {},
     "output_type": "execute_result"
    }
   ],
   "source": [
    "l1"
   ]
  },
  {
   "cell_type": "code",
   "execution_count": null,
   "id": "5cc86843-aff7-40e7-933b-721cb2c07c6a",
   "metadata": {},
   "outputs": [],
   "source": [
    "#Q4\n",
    "\n",
    "\n",
    "# In Python, a generator is a function that returns an iterator that produces a sequence of values when iterated over\n",
    "\n",
    "# yield keyword is used to create a generator function. A type of function that is memory efficient and can be used like an iterator object\n",
    "\n",
    "\n",
    "def func(x):\n",
    "    for i in range(x):\n",
    "        yield i\n"
   ]
  },
  {
   "cell_type": "code",
   "execution_count": 31,
   "id": "8f4cbd3e-c14b-499c-b159-294496ec886b",
   "metadata": {},
   "outputs": [
    {
     "name": "stdout",
     "output_type": "stream",
     "text": [
      " 2   3   5   7   11   13   17   19   23   29   31   37   41   43   47   53   59   61   67   71   73   79   83   89   97   101   103   107   109   113   127   131   137   139   149   151   157   163   167   173   179   181   191   193   197   199   211   223   227   229   233   239   241   251   257   263   269   271   277   281   283   293   307   311   313   317   331   337   347   349   353   359   367   373   379   383   389   397   401   409   419   421   431   433   439   443   449   457   461   463   467   479   487   491   499   503   509   521   523   541   547   557   563   569   571   577   587   593   599   601   607   613   617   619   631   641   643   647   653   659   661   673   677   683   691   701   709   719   727   733   739   743   751   757   761   769   773   787   797   809   811   821   823   827   829   839   853   857   859   863   877   881   883   887   907   911   919   929   937   941   947   953   967   971   977   983   991   997  "
     ]
    }
   ],
   "source": [
    "#Q5\n",
    "\n",
    "for Number in range (1, 1001):\n",
    "    count = 0\n",
    "    for i in range(2, (Number//2 + 1)):\n",
    "        if(Number % i == 0):\n",
    "            count = count + 1\n",
    "            break\n",
    "\n",
    "    if (count == 0 and Number != 1):\n",
    "        print(\" %d\" %Number, end = '  ')\n",
    "        "
   ]
  },
  {
   "cell_type": "code",
   "execution_count": 67,
   "id": "ddb6a414-3958-46a5-bd87-404fed68f2e8",
   "metadata": {},
   "outputs": [
    {
     "name": "stdin",
     "output_type": "stream",
     "text": [
      " 10\n"
     ]
    },
    {
     "name": "stdout",
     "output_type": "stream",
     "text": [
      "Fibonacci series is:  0 1 1 2 3 5 8 13 21 34 "
     ]
    }
   ],
   "source": [
    "#Q6\n",
    "\n",
    "n = int(input())\n",
    "a = 0\n",
    "b = 1\n",
    "sum = 0\n",
    "count = 1\n",
    "print(\"Fibonacci series is: \", end = \" \")\n",
    "while(count <= n):\n",
    "    count += 1\n",
    "    print(a, end=\" \")\n",
    "    sum = a + b\n",
    "    a = b\n",
    "    b = sum\n",
    "    "
   ]
  },
  {
   "cell_type": "code",
   "execution_count": 47,
   "id": "f3837122-d484-49a4-bb82-e1d9ebade14c",
   "metadata": {},
   "outputs": [
    {
     "name": "stdout",
     "output_type": "stream",
     "text": [
      "['p', 'w', 's', 'k', 'i', 'l', 'l', 's']\n"
     ]
    }
   ],
   "source": [
    "#Q7\n",
    "\n",
    "test = [ letter for letter in 'pwskills' ]\n",
    "print(test)"
   ]
  },
  {
   "cell_type": "code",
   "execution_count": 34,
   "id": "055240d5-8fc6-4745-91b5-31f85f1116dc",
   "metadata": {},
   "outputs": [
    {
     "name": "stdin",
     "output_type": "stream",
     "text": [
      "Enter a number: 121\n"
     ]
    },
    {
     "name": "stdout",
     "output_type": "stream",
     "text": [
      "The number is palindrome!\n"
     ]
    }
   ],
   "source": [
    "#Q8\n",
    "\n",
    "num=int(input(\"Enter a number:\"))\n",
    "temp=num\n",
    "rev=0\n",
    "while(num>0):\n",
    "    dig=num%10\n",
    "    rev=rev*10+dig\n",
    "    num=num//10\n",
    "if(temp==rev):\n",
    "    print(\"The number is palindrome!\")\n",
    "else:\n",
    "    print(\"Not a palindrome!\")"
   ]
  },
  {
   "cell_type": "code",
   "execution_count": 48,
   "id": "89db0482-5add-45ea-8bcd-ff4b8881d63e",
   "metadata": {},
   "outputs": [],
   "source": [
    "# Q9\n",
    "\n",
    "l = [i for i in list(range(1,101))]"
   ]
  },
  {
   "cell_type": "code",
   "execution_count": 49,
   "id": "3c4e6644-895f-432d-ab85-d70329f2eb89",
   "metadata": {},
   "outputs": [
    {
     "name": "stdout",
     "output_type": "stream",
     "text": [
      "[1, 2, 3, 4, 5, 6, 7, 8, 9, 10, 11, 12, 13, 14, 15, 16, 17, 18, 19, 20, 21, 22, 23, 24, 25, 26, 27, 28, 29, 30, 31, 32, 33, 34, 35, 36, 37, 38, 39, 40, 41, 42, 43, 44, 45, 46, 47, 48, 49, 50, 51, 52, 53, 54, 55, 56, 57, 58, 59, 60, 61, 62, 63, 64, 65, 66, 67, 68, 69, 70, 71, 72, 73, 74, 75, 76, 77, 78, 79, 80, 81, 82, 83, 84, 85, 86, 87, 88, 89, 90, 91, 92, 93, 94, 95, 96, 97, 98, 99, 100]\n"
     ]
    }
   ],
   "source": [
    "print(l)"
   ]
  },
  {
   "cell_type": "code",
   "execution_count": 54,
   "id": "cfcb05b6-7f45-4162-9642-90aad1cf2286",
   "metadata": {},
   "outputs": [],
   "source": [
    "s = [i for i in l if i % 2 != 0 ]"
   ]
  },
  {
   "cell_type": "code",
   "execution_count": 55,
   "id": "5a13c75e-25c7-453a-bff2-d49d88c351f6",
   "metadata": {},
   "outputs": [
    {
     "data": {
      "text/plain": [
       "[1,\n",
       " 3,\n",
       " 5,\n",
       " 7,\n",
       " 9,\n",
       " 11,\n",
       " 13,\n",
       " 15,\n",
       " 17,\n",
       " 19,\n",
       " 21,\n",
       " 23,\n",
       " 25,\n",
       " 27,\n",
       " 29,\n",
       " 31,\n",
       " 33,\n",
       " 35,\n",
       " 37,\n",
       " 39,\n",
       " 41,\n",
       " 43,\n",
       " 45,\n",
       " 47,\n",
       " 49,\n",
       " 51,\n",
       " 53,\n",
       " 55,\n",
       " 57,\n",
       " 59,\n",
       " 61,\n",
       " 63,\n",
       " 65,\n",
       " 67,\n",
       " 69,\n",
       " 71,\n",
       " 73,\n",
       " 75,\n",
       " 77,\n",
       " 79,\n",
       " 81,\n",
       " 83,\n",
       " 85,\n",
       " 87,\n",
       " 89,\n",
       " 91,\n",
       " 93,\n",
       " 95,\n",
       " 97,\n",
       " 99]"
      ]
     },
     "execution_count": 55,
     "metadata": {},
     "output_type": "execute_result"
    }
   ],
   "source": [
    "s"
   ]
  }
 ],
 "metadata": {
  "kernelspec": {
   "display_name": "Python 3 (ipykernel)",
   "language": "python",
   "name": "python3"
  },
  "language_info": {
   "codemirror_mode": {
    "name": "ipython",
    "version": 3
   },
   "file_extension": ".py",
   "mimetype": "text/x-python",
   "name": "python",
   "nbconvert_exporter": "python",
   "pygments_lexer": "ipython3",
   "version": "3.10.8"
  }
 },
 "nbformat": 4,
 "nbformat_minor": 5
}
